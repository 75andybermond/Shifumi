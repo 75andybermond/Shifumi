{
  "cells": [
    {
      "cell_type": "markdown",
      "id": "about-evidence",
      "metadata": {
        "id": "about-evidence"
      },
      "source": [
        "# Importation des librairies"
      ]
    },
    {
      "cell_type": "code",
      "execution_count": null,
      "id": "furnished-injection",
      "metadata": {
        "id": "furnished-injection"
      },
      "outputs": [],
      "source": [
        "import os\n",
        "import random\n",
        "\n",
        "import numpy as np\n",
        "\n",
        "import tensorflow as tf\n",
        "import tensorflow_datasets as tfds\n",
        "\n",
        "from tensorflow.keras.utils import to_categorical\n",
        "from tensorflow.keras.models import Sequential\n",
        "from tensorflow.keras.layers import Dense\n",
        "from tensorflow.keras.optimizers import Adam\n",
        "\n",
        "from sklearn.metrics import confusion_matrix\n",
        "\n",
        "import matplotlib.pyplot as plt\n",
        "import seaborn as sns"
      ]
    },
    {
      "cell_type": "markdown",
      "id": "upper-ability",
      "metadata": {
        "id": "upper-ability"
      },
      "source": [
        "# Graines"
      ]
    },
    {
      "cell_type": "code",
      "execution_count": null,
      "id": "moved-pittsburgh",
      "metadata": {
        "id": "moved-pittsburgh"
      },
      "outputs": [],
      "source": [
        "seed = 42\n",
        "\n",
        "os.environ['PYTHONHASHSEED'] = str(seed)\n",
        "random.seed(seed)\n",
        "np.random.seed(seed)\n",
        "tf.random.set_seed(seed)"
      ]
    },
    {
      "cell_type": "markdown",
      "id": "contemporary-short",
      "metadata": {
        "id": "contemporary-short"
      },
      "source": [
        "# Chargement des données"
      ]
    },
    {
      "cell_type": "code",
      "execution_count": null,
      "id": "cardiovascular-appeal",
      "metadata": {
        "id": "cardiovascular-appeal"
      },
      "outputs": [],
      "source": [
        "X_train, y_train = tfds.as_numpy(tfds.load(\n",
        "    'rock_paper_scissors',\n",
        "    split='train',\n",
        "    batch_size=-1,\n",
        "    as_supervised=True,\n",
        "))"
      ]
    },
    {
      "cell_type": "code",
      "execution_count": null,
      "id": "floating-stability",
      "metadata": {
        "id": "floating-stability"
      },
      "outputs": [],
      "source": [
        "X_test, y_test = tfds.as_numpy(tfds.load(\n",
        "    'rock_paper_scissors',\n",
        "    split='test',\n",
        "    batch_size=-1,\n",
        "    as_supervised=True,\n",
        "))"
      ]
    },
    {
      "cell_type": "markdown",
      "id": "anticipated-sender",
      "metadata": {
        "id": "anticipated-sender"
      },
      "source": [
        "# Pré-traitement des données"
      ]
    },
    {
      "cell_type": "code",
      "execution_count": null,
      "id": "frank-hollywood",
      "metadata": {
        "id": "frank-hollywood"
      },
      "outputs": [],
      "source": [
        "feature_vector_length = X_train.shape[1]*X_train.shape[2]*X_train.shape[3]\n",
        "num_classes = 3"
      ]
    },
    {
      "cell_type": "code",
      "execution_count": null,
      "id": "emotional-petersburg",
      "metadata": {
        "id": "emotional-petersburg"
      },
      "outputs": [],
      "source": [
        "X_train = np.reshape(X_train, (X_train.shape[0], feature_vector_length))"
      ]
    },
    {
      "cell_type": "code",
      "execution_count": null,
      "id": "wanted-hollywood",
      "metadata": {
        "id": "wanted-hollywood"
      },
      "outputs": [],
      "source": [
        "X_test = np.reshape(X_test, (X_test.shape[0], feature_vector_length))"
      ]
    },
    {
      "cell_type": "code",
      "execution_count": null,
      "id": "numerous-second",
      "metadata": {
        "id": "numerous-second"
      },
      "outputs": [],
      "source": [
        "one_hot_encoded_y_train = to_categorical(y_train, num_classes)"
      ]
    },
    {
      "cell_type": "code",
      "execution_count": null,
      "id": "scenic-arbor",
      "metadata": {
        "id": "scenic-arbor"
      },
      "outputs": [],
      "source": [
        "one_hot_encoded_y_test = to_categorical(y_test, num_classes)"
      ]
    },
    {
      "cell_type": "markdown",
      "id": "elegant-webster",
      "metadata": {
        "id": "elegant-webster"
      },
      "source": [
        "# Création du modèle"
      ]
    },
    {
      "cell_type": "code",
      "execution_count": null,
      "id": "recognized-newspaper",
      "metadata": {
        "id": "recognized-newspaper"
      },
      "outputs": [],
      "source": [
        "# Set the input shape\n",
        "input_shape = (feature_vector_length,)\n",
        "print(f'Feature shape: {input_shape}')\n",
        "\n",
        "# Create the model\n",
        "model = Sequential()\n",
        "\n",
        "model.add(Dense(1024, input_shape=input_shape, activation='relu'))\n",
        "model.add(Dense(num_classes, activation='softmax'))"
      ]
    },
    {
      "cell_type": "markdown",
      "id": "fitted-colony",
      "metadata": {
        "id": "fitted-colony"
      },
      "source": [
        "# Compilation du modèle"
      ]
    },
    {
      "cell_type": "code",
      "execution_count": null,
      "id": "pending-genetics",
      "metadata": {
        "id": "pending-genetics"
      },
      "outputs": [],
      "source": [
        "# Configure the model\n",
        "opt = Adam(learning_rate=0.001)\n",
        "\n",
        "model.compile(loss='categorical_crossentropy', optimizer=opt, metrics=['accuracy'])"
      ]
    },
    {
      "cell_type": "markdown",
      "id": "three-myrtle",
      "metadata": {
        "id": "three-myrtle"
      },
      "source": [
        "# Entrainement du modèle"
      ]
    },
    {
      "cell_type": "code",
      "execution_count": null,
      "id": "electoral-watch",
      "metadata": {
        "id": "electoral-watch"
      },
      "outputs": [],
      "source": [
        "# Start training\n",
        "history = model.fit(X_train, one_hot_encoded_y_train, epochs=50, batch_size=32, verbose=1, validation_split=0.2)"
      ]
    },
    {
      "cell_type": "code",
      "execution_count": null,
      "id": "fleet-williams",
      "metadata": {
        "id": "fleet-williams"
      },
      "outputs": [],
      "source": [
        "plt.figure(figsize=(8, 5), dpi=100)\n",
        "plt.title(\"Loss\")\n",
        "plt.plot(history.history['loss'], label=\"Train Dataset\")\n",
        "plt.plot(history.history['val_loss'], label=\"Validation Dataset\")\n",
        "plt.xlabel(\"Epoch\")\n",
        "plt.legend()\n",
        "plt.show()"
      ]
    },
    {
      "cell_type": "code",
      "execution_count": null,
      "id": "lasting-vehicle",
      "metadata": {
        "id": "lasting-vehicle"
      },
      "outputs": [],
      "source": [
        "plt.figure(figsize=(8, 5), dpi=100)\n",
        "plt.title(\"Accuracy\")\n",
        "plt.plot(history.history['accuracy'], label=\"Train Dataset\")\n",
        "plt.plot(history.history['val_accuracy'], label=\"Validation Dataset\")\n",
        "plt.xlabel(\"Epoch\")\n",
        "plt.legend()\n",
        "plt.show()"
      ]
    },
    {
      "cell_type": "markdown",
      "id": "elegant-scratch",
      "metadata": {
        "id": "elegant-scratch"
      },
      "source": [
        "# Performances du modèle sur le jeu d'apprentissage"
      ]
    },
    {
      "cell_type": "markdown",
      "id": "municipal-wheel",
      "metadata": {
        "id": "municipal-wheel"
      },
      "source": [
        "## Taux de classification"
      ]
    },
    {
      "cell_type": "code",
      "execution_count": null,
      "id": "purple-motorcycle",
      "metadata": {
        "id": "purple-motorcycle"
      },
      "outputs": [],
      "source": [
        "model.evaluate(X_train, one_hot_encoded_y_train)"
      ]
    },
    {
      "cell_type": "markdown",
      "id": "fundamental-milton",
      "metadata": {
        "id": "fundamental-milton"
      },
      "source": [
        "## Matrice de confusion"
      ]
    },
    {
      "cell_type": "code",
      "execution_count": null,
      "id": "infrared-petersburg",
      "metadata": {
        "id": "infrared-petersburg"
      },
      "outputs": [],
      "source": [
        "y_predict_train = np.argmax(model.predict(X_train), axis=-1)"
      ]
    },
    {
      "cell_type": "code",
      "execution_count": null,
      "id": "steady-beads",
      "metadata": {
        "id": "steady-beads"
      },
      "outputs": [],
      "source": [
        "cm = confusion_matrix(y_train, y_predict_train, normalize='true')"
      ]
    },
    {
      "cell_type": "code",
      "execution_count": null,
      "id": "civic-israel",
      "metadata": {
        "id": "civic-israel"
      },
      "outputs": [],
      "source": [
        "counts = [\"{0:0.0f}\\n\".format(value) for value in confusion_matrix(y_train, y_predict_train, normalize=None).flatten()]\n",
        "percentages = [\"{0:.2%}\".format(value) for value in confusion_matrix(y_train, y_predict_train, normalize='true').flatten()]\n",
        "\n",
        "box_labels = [f\"{v1}{v2}\" for v1, v2 in zip(counts, percentages)]\n",
        "box_labels = np.asarray(box_labels).reshape(cm.shape[0],cm.shape[1])\n",
        "\n",
        "plt.figure(figsize=(8,5), dpi=100)\n",
        "\n",
        "plt.title(\"Matrice de confusion (train dataset)\")\n",
        "\n",
        "sns.heatmap(cm,\n",
        "            vmin=0.0,\n",
        "            vmax=1.0,\n",
        "            cmap='Blues',\n",
        "            annot=box_labels,\n",
        "            fmt='',\n",
        "            xticklabels=[\"Rock\", \"Paper\", \"Scissors\"],\n",
        "            yticklabels=[\"Rock\", \"Paper\", \"Scissors\"])\n",
        "\n",
        "plt.xlabel(\"Valeurs prédites\")\n",
        "plt.ylabel(\"Valeurs réelles\")\n",
        "\n",
        "plt.show()"
      ]
    },
    {
      "cell_type": "markdown",
      "id": "banner-remains",
      "metadata": {
        "id": "banner-remains"
      },
      "source": [
        "# Performances du modèle sur le jeu de test"
      ]
    },
    {
      "cell_type": "markdown",
      "id": "polish-gallery",
      "metadata": {
        "id": "polish-gallery"
      },
      "source": [
        "## Taux de classification"
      ]
    },
    {
      "cell_type": "code",
      "execution_count": null,
      "id": "organic-conjunction",
      "metadata": {
        "id": "organic-conjunction"
      },
      "outputs": [],
      "source": [
        "model.evaluate(X_test, one_hot_encoded_y_test)"
      ]
    },
    {
      "cell_type": "markdown",
      "id": "needed-greece",
      "metadata": {
        "id": "needed-greece"
      },
      "source": [
        "## Matrice de confusion"
      ]
    },
    {
      "cell_type": "code",
      "execution_count": null,
      "id": "useful-tooth",
      "metadata": {
        "id": "useful-tooth"
      },
      "outputs": [],
      "source": [
        "y_predict_test = np.argmax(model.predict(X_test), axis=-1)"
      ]
    },
    {
      "cell_type": "code",
      "execution_count": null,
      "id": "careful-principal",
      "metadata": {
        "id": "careful-principal"
      },
      "outputs": [],
      "source": [
        "cm = confusion_matrix(y_test, y_predict_test, normalize='true')"
      ]
    },
    {
      "cell_type": "code",
      "execution_count": null,
      "id": "residential-dutch",
      "metadata": {
        "id": "residential-dutch"
      },
      "outputs": [],
      "source": [
        "counts = [\"{0:0.0f}\\n\".format(value) for value in confusion_matrix(y_test, y_predict_test, normalize=None).flatten()]\n",
        "percentages = [\"{0:.2%}\".format(value) for value in confusion_matrix(y_test, y_predict_test, normalize='true').flatten()]\n",
        "\n",
        "box_labels = [f\"{v1}{v2}\" for v1, v2 in zip(counts, percentages)]\n",
        "box_labels = np.asarray(box_labels).reshape(cm.shape[0],cm.shape[1])\n",
        "\n",
        "plt.figure(figsize=(8,5), dpi=100)\n",
        "\n",
        "plt.title(\"Matrice de confusion (test dataset)\")\n",
        "\n",
        "sns.heatmap(cm,\n",
        "            vmin=0.0,\n",
        "            vmax=1.0,\n",
        "            cmap='Blues',\n",
        "            annot=box_labels,\n",
        "            fmt='',\n",
        "            xticklabels=[\"Rock\", \"Paper\", \"Scissors\"],\n",
        "            yticklabels=[\"Rock\", \"Paper\", \"Scissors\"])\n",
        "\n",
        "plt.xlabel(\"Valeurs prédites\")\n",
        "plt.ylabel(\"Valeurs réelles\")\n",
        "\n",
        "plt.show()"
      ]
    }
  ],
  "metadata": {
    "colab": {
      "provenance": []
    },
    "kernelspec": {
      "display_name": "Python 3 (ipykernel)",
      "language": "python",
      "name": "python3"
    },
    "language_info": {
      "codemirror_mode": {
        "name": "ipython",
        "version": 3
      },
      "file_extension": ".py",
      "mimetype": "text/x-python",
      "name": "python",
      "nbconvert_exporter": "python",
      "pygments_lexer": "ipython3",
      "version": "3.9.13"
    }
  },
  "nbformat": 4,
  "nbformat_minor": 5
}
